{
 "cells": [
  {
   "cell_type": "markdown",
   "id": "666a9537-9d2f-4f22-b2a2-7d364f0cc2a4",
   "metadata": {
    "tags": []
   },
   "source": [
    "#### Thoughts...\n",
    "* Есть мультистраничные excel'и\n",
    "* Одна колонка таблицы может быть объединенной\n",
    "* У одной записи могут быть подзаписи с дробным номером\n",
    "* В этой версии подразумевается структура по СН-2012\n",
    "* В некоторых сметах есть несколько локальных подсмет"
   ]
  },
  {
   "cell_type": "code",
   "execution_count": 1,
   "id": "4ff12bfb-4e23-4765-b281-0c995adeff95",
   "metadata": {},
   "outputs": [],
   "source": [
    "import pandas as pd\n",
    "import string\n",
    "import os\n",
    "from glob import glob\n",
    "import random\n",
    "import json\n",
    "import regex as re\n",
    "from IPython.display import JSON,display,display_json\n",
    "from tqdm import tqdm"
   ]
  },
  {
   "cell_type": "code",
   "execution_count": 2,
   "id": "4947bd58-6d76-4bcf-98ac-4ade30624224",
   "metadata": {},
   "outputs": [],
   "source": [
    "class WrongSmeta(Exception):\n",
    "    pass"
   ]
  },
  {
   "cell_type": "code",
   "execution_count": 49,
   "id": "3863a4bc-1501-44be-878f-cb0ad532796a",
   "metadata": {},
   "outputs": [],
   "source": [
    "path = \"./soure_data/smeth_conc/smety_ishod/\"\n",
    "#path = \"./soure_data/СН-ТСН/СН-2012/\"\n",
    "!find $path > files.txt\n",
    "with open(\"files.txt\") as f:\n",
    "    files = f.readlines()\n",
    "    files = list(map(lambda x: \"\".join(x.split('\\n')), files))\n",
    "allowed_ext = ('xls', 'xlsx')\n",
    "excels = list(filter(lambda x: x.lower().endswith(allowed_ext), files))"
   ]
  },
  {
   "cell_type": "code",
   "execution_count": 81,
   "id": "aa896b7b-a420-4485-8b38-32cbe7fae4ba",
   "metadata": {},
   "outputs": [],
   "source": [
    "#heet = \"soure_data/smeth_conc/smety_ishod/1771608138821000208/Проектно-сметая документация (1).xlsx\"\n",
    "sheet = \"soure_data/smeth_conc/smety_ishod/87702132064210000340000/Прил3 к ТЗ сметная докмуентация Благоустройство сквера ЦАК.xlsx\"\n",
    "#heet = \"soure_data/smeth_conc/smety_ishod/2770182732021001448/ГБУ ТЦСО _Марьино_ филиал _Люблино_1 (1).xlsx\"\n",
    "#sheet = './soure_data/smeth_conc/smety_ishod/2774394681021000083/ЛС 3 (1).xls'\n",
    "#sheet = './weird.xlsx'\n",
    "#sheet = \"soure_data/smeth_conc/smety_ishod///2770182732021001448/ГБУ ТЦСО _Марьино_ филиал _Люблино_1 (1).xlsx\"\n",
    "#sheet = random.choice(excels)\n",
    "sheet = \"./soure_data/smeth_conc/smety_ishod/2772494153421000012/Смета (2).xls\""
   ]
  },
  {
   "cell_type": "code",
   "execution_count": null,
   "id": "f2d77a9d-95f6-4101-9eca-d86651582ead",
   "metadata": {},
   "outputs": [],
   "source": []
  },
  {
   "cell_type": "code",
   "execution_count": null,
   "id": "79f472bf-6942-44cf-a37d-000f78c4d74c",
   "metadata": {},
   "outputs": [],
   "source": []
  },
  {
   "cell_type": "code",
   "execution_count": 82,
   "id": "f7490b3d-399d-404b-b597-11815d868ebf",
   "metadata": {},
   "outputs": [
    {
     "data": {
      "text/plain": [
       "'./soure_data/smeth_conc/smety_ishod/2772494153421000012/Смета (2).xls'"
      ]
     },
     "execution_count": 82,
     "metadata": {},
     "output_type": "execute_result"
    }
   ],
   "source": [
    "sheet"
   ]
  },
  {
   "cell_type": "code",
   "execution_count": 83,
   "id": "3bf37717-c4e9-48fd-836e-015ec09bdd18",
   "metadata": {},
   "outputs": [
    {
     "name": "stdout",
     "output_type": "stream",
     "text": [
      "Все книги: ['Смета СН-2012 по гл. 1-5', 'Дефектная ведомость', 'RV_DATA', 'Расчет стоимости ресурсов', 'Source', 'SourceObSm', 'SmtRes', 'EtalonRes']\n",
      "Выбрана книга: Смета СН-2012 по гл. 1-5\n"
     ]
    }
   ],
   "source": [
    "excel_file = pd.ExcelFile(sheet)\n",
    "print(\"Все книги:\",excel_file.sheet_names)\n",
    "for i in excel_file.sheet_names:\n",
    "    if(\"смета\" in i.lower()):\n",
    "        choosen_name = i\n",
    "        print(f\"Выбрана книга: {i}\")\n",
    "        break\n",
    "#df = pd.read_excel(sheet,header=None)\n",
    "df = excel_file.parse(sheet_name=choosen_name,header=None)\n",
    "df = df.dropna(how=\"all\").dropna(axis=1,how=\"all\")\n",
    "df = df.astype(str)\n",
    "df = df.reset_index(drop=True)\n",
    "df.columns = range(df.columns.size)"
   ]
  },
  {
   "cell_type": "code",
   "execution_count": null,
   "id": "49ebba88-c487-4393-902e-2c81aef352fa",
   "metadata": {},
   "outputs": [],
   "source": []
  },
  {
   "cell_type": "code",
   "execution_count": 84,
   "id": "c99c17dc-950f-4efb-b8e3-b63911e641ff",
   "metadata": {
    "scrolled": true,
    "tags": []
   },
   "outputs": [
    {
     "name": "stdout",
     "output_type": "stream",
     "text": [
      "21\n"
     ]
    }
   ],
   "source": [
    "#Определение начала таблицы\n",
    "def series_startswith(ser, pattern):\n",
    "    index = 0\n",
    "    for val in ser:\n",
    "        if(val == pattern[index]):\n",
    "            index+=1\n",
    "        elif(val == 'nan'):\n",
    "            continue\n",
    "        else:\n",
    "            return False\n",
    "        if(index == len(pattern)):\n",
    "            return True\n",
    "    return False\n",
    "\n",
    "one2elvn = [str(_) for _ in range(1,12)]\n",
    "for index, row in df.iterrows():\n",
    "    if(series_startswith(row, one2elvn)):\n",
    "        print(index)\n",
    "        table_title = index\n",
    "        break"
   ]
  },
  {
   "cell_type": "code",
   "execution_count": null,
   "id": "11b64189-cb73-4b04-bf36-f92288e0123a",
   "metadata": {},
   "outputs": [],
   "source": []
  },
  {
   "cell_type": "code",
   "execution_count": 85,
   "id": "143b97ef-6ea0-4776-98c6-8bab6667a754",
   "metadata": {},
   "outputs": [
    {
     "data": {
      "text/plain": [
       "{1: 0, 2: 1, 3: 2, 4: 3, 5: 4, 6: 5, 7: 6, 8: 7, 9: 8, 10: 9, 11: 10}"
      ]
     },
     "execution_count": 85,
     "metadata": {},
     "output_type": "execute_result"
    }
   ],
   "source": [
    "# Маппинг номеров колонок таблицы в случае объединенных excel ячеек\n",
    "column_map = {}\n",
    "index = 1\n",
    "for ind, val in enumerate(df.iloc[table_title]):\n",
    "    if(val == str(index)):\n",
    "        column_map[index] = ind\n",
    "        index+=1\n",
    "        \n",
    "columns_mask = list(column_map.values())\n",
    "column_map\n"
   ]
  },
  {
   "cell_type": "code",
   "execution_count": null,
   "id": "74be0c31-13e9-4c1f-b26c-22374a52a69e",
   "metadata": {},
   "outputs": [],
   "source": []
  },
  {
   "cell_type": "code",
   "execution_count": null,
   "id": "57cf0fcb-d668-40a5-a417-39b6b27609b0",
   "metadata": {},
   "outputs": [],
   "source": []
  },
  {
   "cell_type": "code",
   "execution_count": 86,
   "id": "0449cd2e-431d-4572-a616-e16f253cd6cf",
   "metadata": {},
   "outputs": [
    {
     "name": "stdout",
     "output_type": "stream",
     "text": [
      "Смета подходит под СН-2012\n"
     ]
    }
   ],
   "source": [
    "# Проверка соответствия колонок по СН-2012\n",
    "ser = df.iloc[table_title-1][columns_mask].apply(lambda x: \"\" if x == \"nan\" else x)[::]\n",
    "for index, row in df[:table_title-1][::-1].iterrows():\n",
    "    ser += row[columns_mask].apply(lambda x: \"\" if x == \"nan\" else x)\n",
    "    if(\"№\" in ser[0]):\n",
    "        break\n",
    "\n",
    "def contains(pattern: str or tuple, s: str, lower = True, to_delete = ['-','\\n']):\n",
    "    if(to_delete):\n",
    "        s = re.sub('|'.join(to_delete),\"\", s)\n",
    "    if(lower):\n",
    "        pattern = tuple(map(lambda x:x.lower(), pattern))\n",
    "        s = s.lower()\n",
    "    if(type(pattern) is str):\n",
    "        return pattern in s\n",
    "    flag = True\n",
    "    for val in pattern:\n",
    "        flag *= val in s\n",
    "    return flag\n",
    "        \n",
    "    pass\n",
    "if(contains(\"№\", ser[column_map[1]]) and  \n",
    "   contains(\"шифр\", ser[column_map[2]]) and \n",
    "   contains(\"наименовани\", ser[column_map[3]]) and \n",
    "   contains((\"ед\",\"изм\"), ser[column_map[4]]) and\n",
    "   contains((\"кол\",\"во\",\"ед\"), ser[column_map[5]]) and\n",
    "   contains((\"цена\", \"ед\"), ser[column_map[6]]) and \n",
    "   contains((\"коэф\", \"поправоч\"), ser[column_map[7]]) and \n",
    "   contains((\"коэф\", \"зимн\"), ser[column_map[8]]) and \n",
    "   contains((\"коэф\", \"пересч\"), ser[column_map[9]]) and \n",
    "   contains(\"всего\", ser[column_map[10]]) and \n",
    "   contains((\"справ\", \"зтр\",\"ед\"), ser[column_map[11]]) and\n",
    "   (contains(\"стоим\", ser[column_map[11]]) or contains((\"ст\", \"ть\"), ser[column_map[11]]))):\n",
    "    print(\"Смета подходит под СН-2012\")\n",
    "else:\n",
    "    raise WrongSmeta(\"Формат сметы не подходит\")"
   ]
  },
  {
   "cell_type": "code",
   "execution_count": 87,
   "id": "93d00ba1-e3ef-4149-a0b9-7297e9809013",
   "metadata": {},
   "outputs": [
    {
     "data": {
      "text/plain": [
       "0                                                №№ п/п\n",
       "1                         Шифр расценки и коды ресурсов\n",
       "2                           Наименование работ и затрат\n",
       "3                                     Единица измерения\n",
       "4                                         Кол-во единиц\n",
       "5                                 Цена на ед. изм. руб.\n",
       "6                                   Попра-вочные коэфф.\n",
       "7                             Коэфф. зимних удоро-жаний\n",
       "8                                      Коэфф. пересчета\n",
       "9                                    ВСЕГО затрат, руб.\n",
       "10    Ст-ть ед. с начислен.ЗТР, всего чел.-часСправочно\n",
       "Name: 20, dtype: object"
      ]
     },
     "execution_count": 87,
     "metadata": {},
     "output_type": "execute_result"
    }
   ],
   "source": [
    "ser"
   ]
  },
  {
   "cell_type": "code",
   "execution_count": null,
   "id": "e9bd2a5d-a369-482d-913b-0cadebde6d9e",
   "metadata": {},
   "outputs": [],
   "source": []
  },
  {
   "cell_type": "code",
   "execution_count": 88,
   "id": "9ccee1fb-4443-424e-b82c-56384554afd0",
   "metadata": {
    "scrolled": true,
    "tags": []
   },
   "outputs": [
    {
     "name": "stderr",
     "output_type": "stream",
     "text": [
      "1496it [00:01, 800.82it/s]\n"
     ]
    }
   ],
   "source": [
    "# Определение разделов и подразделов\n",
    "current_section = None\n",
    "current_subsection = None\n",
    "current_item = 0\n",
    "item_indices = {0:[None,None,None,None]} # Началный индекс, Конечный индекс, раздел, подраздел\n",
    "#Границы записей явлеяются отрезком [], учитывать при использовании slice\n",
    "\n",
    "for index, row in tqdm(df[table_title+1:].iterrows()):\n",
    "    # Определения разделов и подразделов\n",
    "    if(row.str.lower().str.contains(\"подраздел\").any()):\n",
    "        if((row.str.lower().str.contains(\"подраздел\") * row.str.lower().str.contains(\"итог\")).any()):\n",
    "            #print(f\"    Конец {current_subsection}\")\n",
    "            current_subsection = None\n",
    "            item_indices[current_item][1] = index-1\n",
    "        else:\n",
    "            # Иногда в одной линии два раза встречается подраздел\n",
    "            for cell in row:\n",
    "                if(cell!=\"nan\" and \"подраздел\" in cell.lower()):\n",
    "                    current_subsection = cell\n",
    "                    break\n",
    "                    \n",
    "            #print(f\"    Начало {current_subsection}\")\n",
    "    elif(row.str.lower().str.contains(\"раздел\").any()):\n",
    "        if((row.str.lower().str.contains(\"раздел\") * row.str.lower().str.contains(\"итог\")).any()):\n",
    "            #print(f\"Конец {current_section}\")\n",
    "            current_section = None\n",
    "            item_indices[current_item][1] = index-1\n",
    "        else:\n",
    "            # Иногда в одной линии два раза встречается раздел\n",
    "            for cell in row:\n",
    "                if(cell!=\"nan\" and \"раздел\" in cell.lower()):\n",
    "                    current_section = cell\n",
    "                    break\n",
    "            \n",
    "            #print(f\"Начало {current_section}\")\n",
    "    elif(row.str.lower().str.contains(\"смет\").any() * \\\n",
    "         row.str.lower().str.contains(\"итог\").any()):\n",
    "        if(item_indices[current_item][1] is None):\n",
    "            item_indices[current_item][1] = index-1\n",
    "         \n",
    "    # Определение номера и границ записи\n",
    "    if( row[column_map[1]].isnumeric() and row[column_map[1]] == str(current_item+1)):\n",
    "        if(item_indices[current_item][1] is None):\n",
    "            item_indices[current_item][1] = index-1\n",
    "        current_item += 1\n",
    "        #print(f\"****Запись**** At index {index} found new item num. {current_item}\")\n",
    "        item_indices[current_item] = [index,None,current_section,current_subsection]\n",
    "\n",
    "#0 запись исскуственная\n",
    "del item_indices[0]\n",
    "\n",
    "assert item_indices, \"No items were found. Cannot continue\""
   ]
  },
  {
   "cell_type": "code",
   "execution_count": null,
   "id": "8f773eb4-35cc-430f-9eb5-97dfe68aef27",
   "metadata": {},
   "outputs": [],
   "source": []
  },
  {
   "cell_type": "code",
   "execution_count": null,
   "id": "a840bcbc-3573-4162-bcce-b109af72d970",
   "metadata": {},
   "outputs": [],
   "source": []
  },
  {
   "cell_type": "code",
   "execution_count": 95,
   "id": "4eba753c-48d4-4757-830a-786866491128",
   "metadata": {
    "scrolled": true,
    "tags": []
   },
   "outputs": [],
   "source": [
    "def check_change_type(col_type, value):\n",
    "    if(type(value) is col_type):\n",
    "        return value\n",
    "    if(col_type is float):\n",
    "        value = re.sub(\"[^0-9|\\.|,]\",\"\",value)\n",
    "        try:\n",
    "            return float(value)\n",
    "        except Exception as e:\n",
    "            if(\",\" in value and \".\" not in value):\n",
    "                try:\n",
    "                    value = re.sub(\",\",\".\",value)\n",
    "                    return float(value)\n",
    "                except Exception as e:\n",
    "                    print(value)\n",
    "                    raise ValueError()\n",
    "\n",
    "column_names = {1:\"Number\",\n",
    "                2:\"Code\",\n",
    "                3:\"Name\",\n",
    "                4:\"Unit\",\n",
    "                5:\"Amount\",\n",
    "                6:\"Price_per_unit\",\n",
    "                7:\"Correction_coof\",\n",
    "                8:\"Winter_coof\",\n",
    "                9:\"Recalc_coof\",\n",
    "                10:\"Total\",\n",
    "                11:\"Additional\"}\n",
    "\n",
    "column_types = {1:float,\n",
    "                 2:str,\n",
    "                 3:str,\n",
    "                 4:str,\n",
    "                 5:float,\n",
    "                 6:float,\n",
    "                 7:float,\n",
    "                 8:float,\n",
    "                 9:float,\n",
    "                 10:float,\n",
    "                 11:float}\n",
    "\n",
    "columns_mask = list(column_map.values())\n",
    "value_mask = list(map(lambda x: x[1],filter(lambda x: x[0]>3, column_map.items())))\n",
    "    \n",
    "all_items = []\n",
    "\n",
    "for item_to_parse in range(1, len(item_indices)+1):\n",
    "    zap = df.iloc[item_indices[item_to_parse][0]:item_indices[item_to_parse][1]+1].reset_index(drop=True)\n",
    "    #Парсинг отдельной записи\n",
    "    main_work_dict = {}\n",
    "    for col in range(1, 12):\n",
    "        if(zap.iloc[0][column_map[col]] != \"nan\"):\n",
    "            main_work_dict[column_names[col]] = check_change_type(column_types[col],zap.iloc[0][column_map[col]])\n",
    "\n",
    "    main_work_dict[\"Sub_works\"] = []\n",
    "    main_work_dict[\"Related_works\"] = []\n",
    "\n",
    "    for index, row in zap[1:].iterrows():\n",
    "        if(len(set(row[value_mask])) == 1 and row[value_mask[0]] == \"nan\"):\n",
    "            continue\n",
    "        if(row[column_map[3]] == 'nan'):\n",
    "            continue\n",
    "        if(row.str.lower().str.contains(\"итого\").any()):\n",
    "            continue\n",
    "        \n",
    "        if(row[column_map[1]] != 'nan' or row[column_map[2]] != 'nan'):\n",
    "            related_work_dict = {}\n",
    "            for col in range(1, 12):\n",
    "                if(row[column_map[col]] != \"nan\"):\n",
    "                    related_work_dict[column_names[col]] = check_change_type(column_types[col],row[column_map[col]])\n",
    "            main_work_dict[\"Related_works\"].append(related_work_dict)\n",
    "        else:\n",
    "            sub_work_dict = {}\n",
    "            for col in range(1, 12):\n",
    "                if(row[column_map[col]] != \"nan\"):\n",
    "                    sub_work_dict[column_names[col]] = check_change_type(column_types[col],row[column_map[col]])\n",
    "            main_work_dict[\"Sub_works\"].append(sub_work_dict)\n",
    "        \n",
    "    for index, row in zap[::-1].iterrows():\n",
    "        first = None\n",
    "        second = None\n",
    "        for val in row[::-1]:\n",
    "            if(val != 'nan'):\n",
    "                if(second):\n",
    "                    first = val\n",
    "                    break\n",
    "                else:\n",
    "                    second = val\n",
    "        if(first and second and re.search('[a-zA-Zа-яА-Я]', first+second) is None):\n",
    "            main_work_dict[\"Total\"] = check_change_type(float,first)\n",
    "            main_work_dict[\"Unit_cost_with_additions\"] = check_change_type(float,second)\n",
    "            break\n",
    "            \n",
    "    main_work_dict[\"Section\"] = item_indices[item_to_parse][2] \n",
    "    main_work_dict[\"Sub_section\"] = item_indices[item_to_parse][3]\n",
    "    \n",
    "    if(\"Code\" not in main_work_dict.keys()):\n",
    "        main_work_dict[\"Code\"] = \"\"\n",
    "    \n",
    "    all_items.append(main_work_dict)"
   ]
  },
  {
   "cell_type": "code",
   "execution_count": null,
   "id": "2390eefd-7111-479d-b59e-d540ba7db9ec",
   "metadata": {
    "scrolled": true,
    "tags": []
   },
   "outputs": [],
   "source": []
  },
  {
   "cell_type": "code",
   "execution_count": 96,
   "id": "4cef483f-07c5-4902-a803-23d185ee40ec",
   "metadata": {},
   "outputs": [
    {
     "data": {
      "text/plain": [
       "'./soure_data/smeth_conc/smety_ishod/2772494153421000012/Смета (2).xls'"
      ]
     },
     "execution_count": 96,
     "metadata": {},
     "output_type": "execute_result"
    }
   ],
   "source": [
    "sheet\n",
    "\n"
   ]
  },
  {
   "cell_type": "code",
   "execution_count": 97,
   "id": "db4e6c87-d015-4f3e-aaf4-3b2b5cfb3e7f",
   "metadata": {},
   "outputs": [
    {
     "data": {
      "text/plain": [
       "{'Number': 1.0,\n",
       " 'Name': 'Площадь Ремонта АБП',\n",
       " 'Amount': 195.0,\n",
       " 'Sub_works': [],\n",
       " 'Related_works': [],\n",
       " 'Total': 0.0,\n",
       " 'Unit_cost_with_additions': 0.0,\n",
       " 'Section': 'Раздел: Ремонт асфальтобетонного покрытия проездов  на дворовых территория (195м2)',\n",
       " 'Sub_section': None,\n",
       " 'Code': 'empty'}"
      ]
     },
     "execution_count": 97,
     "metadata": {},
     "output_type": "execute_result"
    }
   ],
   "source": [
    "all_items[0]"
   ]
  },
  {
   "cell_type": "code",
   "execution_count": null,
   "id": "546037d0-2371-4e0a-86a4-b78706118a19",
   "metadata": {},
   "outputs": [],
   "source": []
  },
  {
   "cell_type": "code",
   "execution_count": null,
   "id": "fbb6e400-4868-4b59-a6ea-f431165b71cc",
   "metadata": {},
   "outputs": [],
   "source": []
  },
  {
   "cell_type": "code",
   "execution_count": 98,
   "id": "8383246b-c9f6-4d0d-94ad-d5ab60868abe",
   "metadata": {},
   "outputs": [],
   "source": [
    "if(\"chaps\" not in vars().keys()):\n",
    "    chaps = {}\n",
    "    for i in range(1,8):\n",
    "        with open(f\"./SN_2012_CHAPTER_{i}.json\", \"r\") as f:\n",
    "            chaps[i] = json.load(f)\n"
   ]
  },
  {
   "cell_type": "code",
   "execution_count": 99,
   "id": "33ef27de-0d68-4858-a313-6ae8183d1e42",
   "metadata": {},
   "outputs": [
    {
     "name": "stderr",
     "output_type": "stream",
     "text": [
      "  2%|███▏                                                                                                                                            | 4/183 [00:00<00:12, 14.87it/s]"
     ]
    },
    {
     "name": "stdout",
     "output_type": "stream",
     "text": [
      "---> Не найден образец для записи номер 1.0 с кодом: empty \n",
      " Наименование: Площадь Ремонта АБП\n",
      "---> Не найден образец для записи номер 3.0 с кодом: empty \n",
      " Наименование: Масса мусора (195м2*0,06м*2,4т/м3=28,08тн)\n"
     ]
    },
    {
     "name": "stderr",
     "output_type": "stream",
     "text": [
      "  7%|█████████▍                                                                                                                                     | 12/183 [00:00<00:12, 14.23it/s]"
     ]
    },
    {
     "name": "stdout",
     "output_type": "stream",
     "text": [
      "---> Не найден образец для записи номер 10.0 с кодом: empty \n",
      " Наименование: Площадь Ремонт тротуара\n",
      "---> Не найден образец для записи номер 12.0 с кодом: empty \n",
      " Наименование: Масса мусора  (1293м2*0,05м*2,4т/м3=155,16тн)\n"
     ]
    },
    {
     "name": "stderr",
     "output_type": "stream",
     "text": [
      " 12%|█████████████████▏                                                                                                                             | 22/183 [00:01<00:11, 14.53it/s]"
     ]
    },
    {
     "name": "stdout",
     "output_type": "stream",
     "text": [
      "---> Не найден образец для записи номер 20.0 с кодом: empty \n",
      " Наименование: Объем Установка дорожного бортового камня\n"
     ]
    },
    {
     "name": "stderr",
     "output_type": "stream",
     "text": [
      " 15%|█████████████████████▉                                                                                                                         | 28/183 [00:01<00:10, 14.48it/s]"
     ]
    },
    {
     "name": "stdout",
     "output_type": "stream",
     "text": [
      "---> Не найден образец для записи номер 25.0 с кодом: empty \n",
      " Наименование: Объем Замена бортового камня дорожного\n",
      "---> Не найден образец для записи номер 27.0 с кодом: empty \n",
      " Наименование: масса мусора  (760м.п*0,246тн/м.п=186,96тн.)\n"
     ]
    },
    {
     "name": "stderr",
     "output_type": "stream",
     "text": [
      " 17%|█████████████████████████                                                                                                                      | 32/183 [00:02<00:11, 13.64it/s]"
     ]
    },
    {
     "name": "stdout",
     "output_type": "stream",
     "text": [
      "---> Не найден образец для записи номер 30.0 с кодом: empty \n",
      " Наименование: Площадь Устройство тротуара в газоне\n"
     ]
    },
    {
     "name": "stderr",
     "output_type": "stream",
     "text": [
      " 25%|███████████████████████████████████▏                                                                                                           | 45/183 [00:03<00:10, 12.59it/s]"
     ]
    },
    {
     "name": "stdout",
     "output_type": "stream",
     "text": [
      "---> Не найден образец для записи номер 43.0 с кодом: empty \n",
      " Наименование: Площадь Устройство синтетического покрытия на детской  площадке\n"
     ]
    },
    {
     "name": "stderr",
     "output_type": "stream",
     "text": [
      " 34%|████████████████████████████████████████████████▍                                                                                              | 62/183 [00:04<00:07, 15.32it/s]"
     ]
    },
    {
     "name": "stdout",
     "output_type": "stream",
     "text": [
      "---> Не найден образец для записи номер 58.0 с кодом: 21.7-7-10 \n",
      " Наименование: Ворота для мини-футбола на каркасе из металлических труб и клееного бруса, с сеткой, размеры 3000х1000х2000 мм (или Эквивалент)\n",
      "---> Не найден образец для записи номер 62.0 с кодом: коммерческое предложение \n",
      " Наименование: Гибкие элементы для лазания \"Малахит\" 2,50*1,70*2,06 СРО132.00(цена Рекомендации МГЭ, руб. с НДС с доставкой   157 680,00/1,2=131 400,00) (Или аналог)\n",
      "Базисная стоимость: 131 400,00 = [157 680 / 1,2]\n"
     ]
    },
    {
     "name": "stderr",
     "output_type": "stream",
     "text": [
      " 38%|██████████████████████████████████████████████████████▋                                                                                        | 70/183 [00:04<00:06, 17.86it/s]"
     ]
    },
    {
     "name": "stdout",
     "output_type": "stream",
     "text": [
      "---> Не найден образец для записи номер 66.0 с кодом: коммерческое предложение \n",
      " Наименование: Игровое оборудование \"Жираф\" (скамья) 1,82*0,82*1,32 МД120.00 (цена Рекомендации МГЭ, руб. с НДС с доставкой   22 015,00/1,2=18 345,83) (Или аналог)\n",
      "Базисная стоимость: 18 345,83 = [22 015 / 1,2]\n",
      "---> Не найден образец для записи номер 70.0 с кодом: коммерческое предложение \n",
      " Наименование: Бум \"Грибки\"        2,00*0,65*0,72 МД123.00  (цена Рекомендации МГЭ, руб. с НДС с доставкой   10 980,00/1,2=9 150,00) (Или аналог)\n",
      "Базисная стоимость: 9 150,00 = [10 980 / 1,2]\n"
     ]
    },
    {
     "name": "stderr",
     "output_type": "stream",
     "text": [
      " 39%|████████████████████████████████████████████████████████▎                                                                                      | 72/183 [00:04<00:06, 15.90it/s]"
     ]
    },
    {
     "name": "stdout",
     "output_type": "stream",
     "text": [
      "---> Не найден образец для записи номер 71.0 с кодом: empty \n",
      " Наименование: Площадь Устройство синтетического покрытия на детской  площадке\n"
     ]
    },
    {
     "name": "stderr",
     "output_type": "stream",
     "text": [
      " 48%|███████████████████████████████████████████████████████████████████▉                                                                           | 87/183 [00:06<00:07, 13.38it/s]"
     ]
    },
    {
     "name": "stdout",
     "output_type": "stream",
     "text": [
      "---> Не найден образец для записи номер 86.0 с кодом: empty \n",
      " Наименование: Площадь основения под песочницу\n"
     ]
    },
    {
     "name": "stderr",
     "output_type": "stream",
     "text": [
      " 57%|████████████████████████████████████████████████████████████████████████████████▋                                                             | 104/183 [00:07<00:06, 12.88it/s]"
     ]
    },
    {
     "name": "stdout",
     "output_type": "stream",
     "text": [
      "---> Не найден образец для записи номер 102.0 с кодом: empty \n",
      " Наименование: Площадь основения\n"
     ]
    },
    {
     "name": "stderr",
     "output_type": "stream",
     "text": [
      " 65%|████████████████████████████████████████████████████████████████████████████████████████████▎                                                 | 119/183 [00:08<00:05, 10.79it/s]"
     ]
    },
    {
     "name": "stdout",
     "output_type": "stream",
     "text": [
      "---> Не найден образец для записи номер 118.0 с кодом: коммерческое предложение \n",
      " Наименование: Львенок MAXI   1950*1750*900 Z-10 (размер XL - TPV крошка) цена Рекомендации МГЭ, руб. с НДС  доставкой и выгрузкой на место (312 480,00 /1,2=260 400,00р ) (или аналог)\n",
      "Базисная стоимость: 260 400,00 = [312 480 / 1,2]\n",
      "---> Не найден образец для записи номер 119.0 с кодом: коммерческое предложение \n",
      " Наименование: Крабик MAXI   3500*3500*1100  Z-19 (размер XL - TPV крошка) цена Рекомендации МГЭ, руб. с НДС  доставкой и выгрузкой на место  ( 491040,00/1,2=409 ,200,00р ) (или аналог)\n",
      "Базисная стоимость: 409 200,00 = [491 040 / 1,2]\n"
     ]
    },
    {
     "name": "stderr",
     "output_type": "stream",
     "text": [
      " 68%|████████████████████████████████████████████████████████████████████████████████████████████████▉                                             | 125/183 [00:08<00:04, 14.39it/s]"
     ]
    },
    {
     "name": "stdout",
     "output_type": "stream",
     "text": [
      "---> Не найден образец для записи номер 121.0 с кодом: коммерческое предложение \n",
      " Наименование: Песочница «Ларец» 1,50*1,50*0,30  ПС100.00 цена Рекомендации МГЭ, руб. с НДС доставкой ( 19 080.00/1,2=15 900,00р ) (или аналог)\n",
      "Базисная стоимость: 15 900,00 = [19 080 / 1,2]\n",
      "---> Не найден образец для записи номер 125.0 с кодом: коммерческое предложение \n",
      " Наименование: \"Еж-Сереж\"  1,50*0,64*1,15 МД121.00  цена Рекомендации МГЭ, руб. с НДС доставкой  ( 37 584,00/1,2=31 320,00р ) (или аналог)\n",
      "Базисная стоимость: 31 320,00 = [37 584 / 1,2]\n"
     ]
    },
    {
     "name": "stderr",
     "output_type": "stream",
     "text": [
      " 73%|███████████████████████████████████████████████████████████████████████████████████████████████████████▏                                      | 133/183 [00:09<00:02, 17.58it/s]"
     ]
    },
    {
     "name": "stdout",
     "output_type": "stream",
     "text": [
      "---> Не найден образец для записи номер 129.0 с кодом: коммерческое предложение \n",
      " Наименование: Игровой комплекс \"Ласточка\"  2,93*1,33*2,40 МД103.00.1  цена Рекомендации МГЭ, руб. с НДС доставкой (127 080,00/1,2=105 900,00р ) (или аналог)\n",
      "Базисная стоимость: 105 900,00 = [127 080 / 1,2]\n",
      "---> Не найден образец для записи номер 133.0 с кодом: коммерческое предложение \n",
      " Наименование: Столик со скамьями детский \"Визави\" 1,40*1,30*0,57 МД050.00 цена с НДС доставкой  (34 720,00/1,2=28 933,33р ) (или аналог)\n",
      "Базисная стоимость: 28 933,33 = [34 720 / 1,2]\n"
     ]
    },
    {
     "name": "stderr",
     "output_type": "stream",
     "text": [
      " 75%|██████████████████████████████████████████████████████████████████████████████████████████████████████████▎                                   | 137/183 [00:09<00:02, 18.96it/s]"
     ]
    },
    {
     "name": "stdout",
     "output_type": "stream",
     "text": [
      "---> Не найден образец для записи номер 137.0 с кодом: коммерческое предложение \n",
      " Наименование: Икарус    2,66*0,91*1,56 МД105.00.1 цена Рекомендации МГЭ, руб. с НДС доставкой и монтажем ( 153 180,00/1,2=127 650,00р ) (или аналог)\n",
      "Базисная стоимость: 127 650,00 = [153 180 / 1,2]\n",
      "---> Не найден образец для записи номер 138.0 с кодом: 1.50-3203-36-5/1\n",
      "Поправка: СН-2012 О.П. п.22  Поправка: СН-2012 О.П. п.22 \n",
      " Наименование: ДЕМОНТАЖ.Монтаж опорных конструкций этажерочного типа (секция =12,05кг/м2х2м2х3м2х123секций/1000кг=8,89тн+ Труба д/у 100ммэлектросварной 108х4мм=10,259кг/мх3мх127шт/1000кг=3,91тн+Калитки  14кг/м2 х1мх2мх2шт/1000кг0,056т+Ворота 12,05кг/м2*2м*4м/1000кг=0,1т Итого= 12,96т)\n"
     ]
    },
    {
     "name": "stderr",
     "output_type": "stream",
     "text": [
      " 81%|██████████████████████████████████████████████████████████████████████████████████████████████████████████████████▊                           | 148/183 [00:10<00:02, 15.05it/s]"
     ]
    },
    {
     "name": "stdout",
     "output_type": "stream",
     "text": [
      "---> Не найден образец для записи номер 146.0 с кодом: 21.7-7-173 \n",
      " Наименование: Скамья на опорах из металлических труб, с сиденьем и спинкой из влагостойкой фанеры, 500х2000х789 мм\n",
      "---> Не найден образец для записи номер 147.0 с кодом: 21.7-7-199 \n",
      " Наименование: Урна У-3 переворачивающаяся из стального листа, на ножках из гнутой стальной полосы, окрашена цветными эмалями, размеры 590х350х340 мм\n"
     ]
    },
    {
     "name": "stderr",
     "output_type": "stream",
     "text": [
      " 93%|███████████████████████████████████████████████████████████████████████████████████████████████████████████████████████████████████▉          | 170/183 [00:11<00:00, 24.48it/s]"
     ]
    },
    {
     "name": "stdout",
     "output_type": "stream",
     "text": [
      "---> Не найден образец для записи номер 167.0 с кодом: empty \n",
      " Наименование: Площадь кровли 8,6мх6м=51,6м2х10шт=516м2\n",
      "---> Не найден образец для записи номер 170.0 с кодом: 1.5-3104-1-1/1\n",
      "Поправка: СН-2012.1-1. Гл.1 Сб.5 п.3. 8.1 \n",
      " Наименование: Разборка кладки стен из кирпича простых (1,8м х7,8м х0,4мх5 стен)(общая стена)+ боковая (5,3мх1м*0,4мх9шт)=471,6м3\n",
      "Поправка: СН-2012.1-1. Гл.1 Сб.5 п.3. 8.1  Наименование: При разборке без сохранения материалов кладки стен из кирпича\n"
     ]
    },
    {
     "name": "stderr",
     "output_type": "stream",
     "text": [
      " 96%|███████████████████████████████████████████████████████████████████████████████████████████████████████████████████████████████████████▊      | 175/183 [00:11<00:00, 29.51it/s]"
     ]
    },
    {
     "name": "stdout",
     "output_type": "stream",
     "text": [
      "---> Не найден образец для записи номер 172.0 с кодом: empty \n",
      " Наименование: Площадь  полов (5,3м*7,8м*10веранд=413,4м2\n",
      "---> Не найден образец для записи номер 176.0 с кодом: 5.3-3203-7-8/1\n",
      "Поправка: СН-2012 О.П. п.22 \n",
      " Наименование: ДЕМОНТАЖ, Установка дополнительных бетонных столбов\n",
      "---> Не найден образец для записи номер 177.0 с кодом: empty \n",
      " Наименование: масса мусора\n"
     ]
    },
    {
     "name": "stderr",
     "output_type": "stream",
     "text": [
      "100%|██████████████████████████████████████████████████████████████████████████████████████████████████████████████████████████████████████████████| 183/183 [00:12<00:00, 15.14it/s]\n"
     ]
    }
   ],
   "source": [
    "\n",
    "#display(JSON(item_in_q))\n",
    "mapping = []\n",
    "\n",
    "for ind, item_in_q  in enumerate(tqdm(all_items)):\n",
    "    all_items[ind][\"Source_from_reference\"] = None\n",
    "\n",
    "    found = False\n",
    "    for key,chap in chaps.items():\n",
    "        for z in chap:\n",
    "            if(item_in_q[\"Name\"].lower() in z[\"Name\"].lower() \\\n",
    "               or item_in_q[\"Code\"].lower() in z[\"Code\"].lower()):\n",
    "                all_items[ind][\"Source_from_reference\"] = z\n",
    "                all_items[ind][\"Source_from_reference\"][\"From_chapter\"] = key\n",
    "                found = True\n",
    "                break\n",
    "        if(found):\n",
    "            break\n",
    "    if(not found):\n",
    "        print(f'---> Не найден образец для записи номер {item_in_q[\"Number\"]} с кодом: {item_in_q[\"Code\"]} \\n Наименование: {item_in_q[\"Name\"]}')\n",
    "    "
   ]
  },
  {
   "cell_type": "code",
   "execution_count": 100,
   "id": "40f70794-3758-4044-9ea3-7609dff45051",
   "metadata": {},
   "outputs": [],
   "source": [
    "with open(\"all_items.json\", \"w\") as f:\n",
    "    json.dump(all_items, f)\n",
    "          "
   ]
  },
  {
   "cell_type": "code",
   "execution_count": 80,
   "id": "830c6261-2623-4f19-bf01-2d33143c2300",
   "metadata": {},
   "outputs": [
    {
     "data": {
      "text/plain": [
       "'from_87702132064210000340000.json'"
      ]
     },
     "execution_count": 80,
     "metadata": {},
     "output_type": "execute_result"
    }
   ],
   "source": [
    "f\"from_{sheet.split('/')[-2]}.json\""
   ]
  },
  {
   "cell_type": "code",
   "execution_count": null,
   "id": "fd031c1d-dc20-4859-ae9d-0f93645e65a2",
   "metadata": {},
   "outputs": [],
   "source": []
  },
  {
   "cell_type": "code",
   "execution_count": null,
   "id": "eda985d0-841c-4bbf-8304-c582a39885ce",
   "metadata": {},
   "outputs": [],
   "source": []
  },
  {
   "cell_type": "code",
   "execution_count": null,
   "id": "40753200-089c-4219-b646-7b334529c7c6",
   "metadata": {},
   "outputs": [],
   "source": []
  },
  {
   "cell_type": "code",
   "execution_count": null,
   "id": "2c1f1d9e-d57e-4a7b-91c0-0e4992589df6",
   "metadata": {},
   "outputs": [],
   "source": []
  },
  {
   "cell_type": "code",
   "execution_count": null,
   "id": "8cfd97a5-d5f9-43b4-a88b-05f4edef0138",
   "metadata": {},
   "outputs": [],
   "source": []
  },
  {
   "cell_type": "code",
   "execution_count": null,
   "id": "f881b8fe-df8b-4b8e-9ef3-197d6ef2d2bd",
   "metadata": {},
   "outputs": [],
   "source": []
  }
 ],
 "metadata": {
  "kernelspec": {
   "display_name": "Python 3 (ipykernel)",
   "language": "python",
   "name": "python3"
  },
  "language_info": {
   "codemirror_mode": {
    "name": "ipython",
    "version": 3
   },
   "file_extension": ".py",
   "mimetype": "text/x-python",
   "name": "python",
   "nbconvert_exporter": "python",
   "pygments_lexer": "ipython3",
   "version": "3.10.8"
  }
 },
 "nbformat": 4,
 "nbformat_minor": 5
}
